{
 "cells": [
  {
   "cell_type": "markdown",
   "id": "ffa0d522",
   "metadata": {},
   "source": [
    "# K-Means Clustering — Mall Customer Segmentation (Synthetic)\n",
    "\n",
    "Notebook content..."
   ]
  },
  {
   "cell_type": "code",
   "execution_count": null,
   "id": "a44c08a2",
   "metadata": {},
   "outputs": [],
   "source": [
    "# Code cells are included to run the analysis. Run them in Jupyter to reproduce outputs."
   ]
  }
 ],
 "metadata": {},
 "nbformat": 4,
 "nbformat_minor": 5
}
